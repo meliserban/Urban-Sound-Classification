{
 "cells": [
  {
   "cell_type": "code",
   "execution_count": 1,
   "id": "428b1957",
   "metadata": {
    "scrolled": true
   },
   "outputs": [],
   "source": [
    "import tensorflow as tf\n",
    "import numpy as np\n",
    "import matplotlib.pyplot as plt\n",
    "import keras\n",
    "import os\n",
    "import pandas as pd\n",
    "import cv2\n",
    "from keras.models import Sequential\n",
    "from keras.layers import Conv2D, MaxPool2D, Flatten, Dense, InputLayer, BatchNormalization, Dropout\n",
    "from sklearn.preprocessing import OneHotEncoder"
   ]
  },
  {
   "cell_type": "code",
   "execution_count": 2,
   "id": "3ba754fb",
   "metadata": {},
   "outputs": [],
   "source": [
    "metadata = pd.read_csv(r\".\\UrbanSound8K.csv\")"
   ]
  },
  {
   "cell_type": "code",
   "execution_count": 3,
   "id": "8e2d5388",
   "metadata": {},
   "outputs": [
    {
     "data": {
      "text/html": [
       "<div>\n",
       "<style scoped>\n",
       "    .dataframe tbody tr th:only-of-type {\n",
       "        vertical-align: middle;\n",
       "    }\n",
       "\n",
       "    .dataframe tbody tr th {\n",
       "        vertical-align: top;\n",
       "    }\n",
       "\n",
       "    .dataframe thead th {\n",
       "        text-align: right;\n",
       "    }\n",
       "</style>\n",
       "<table border=\"1\" class=\"dataframe\">\n",
       "  <thead>\n",
       "    <tr style=\"text-align: right;\">\n",
       "      <th></th>\n",
       "      <th>slice_file_name</th>\n",
       "      <th>fsID</th>\n",
       "      <th>start</th>\n",
       "      <th>end</th>\n",
       "      <th>salience</th>\n",
       "      <th>fold</th>\n",
       "      <th>classID</th>\n",
       "      <th>class</th>\n",
       "    </tr>\n",
       "  </thead>\n",
       "  <tbody>\n",
       "    <tr>\n",
       "      <th>0</th>\n",
       "      <td>100032-3-0-0.wav</td>\n",
       "      <td>100032</td>\n",
       "      <td>0.000000</td>\n",
       "      <td>0.317551</td>\n",
       "      <td>1</td>\n",
       "      <td>5</td>\n",
       "      <td>3</td>\n",
       "      <td>dog_bark</td>\n",
       "    </tr>\n",
       "    <tr>\n",
       "      <th>1</th>\n",
       "      <td>100263-2-0-117.wav</td>\n",
       "      <td>100263</td>\n",
       "      <td>58.500000</td>\n",
       "      <td>62.500000</td>\n",
       "      <td>1</td>\n",
       "      <td>5</td>\n",
       "      <td>2</td>\n",
       "      <td>children_playing</td>\n",
       "    </tr>\n",
       "    <tr>\n",
       "      <th>2</th>\n",
       "      <td>100263-2-0-121.wav</td>\n",
       "      <td>100263</td>\n",
       "      <td>60.500000</td>\n",
       "      <td>64.500000</td>\n",
       "      <td>1</td>\n",
       "      <td>5</td>\n",
       "      <td>2</td>\n",
       "      <td>children_playing</td>\n",
       "    </tr>\n",
       "    <tr>\n",
       "      <th>3</th>\n",
       "      <td>100263-2-0-126.wav</td>\n",
       "      <td>100263</td>\n",
       "      <td>63.000000</td>\n",
       "      <td>67.000000</td>\n",
       "      <td>1</td>\n",
       "      <td>5</td>\n",
       "      <td>2</td>\n",
       "      <td>children_playing</td>\n",
       "    </tr>\n",
       "    <tr>\n",
       "      <th>4</th>\n",
       "      <td>100263-2-0-137.wav</td>\n",
       "      <td>100263</td>\n",
       "      <td>68.500000</td>\n",
       "      <td>72.500000</td>\n",
       "      <td>1</td>\n",
       "      <td>5</td>\n",
       "      <td>2</td>\n",
       "      <td>children_playing</td>\n",
       "    </tr>\n",
       "    <tr>\n",
       "      <th>...</th>\n",
       "      <td>...</td>\n",
       "      <td>...</td>\n",
       "      <td>...</td>\n",
       "      <td>...</td>\n",
       "      <td>...</td>\n",
       "      <td>...</td>\n",
       "      <td>...</td>\n",
       "      <td>...</td>\n",
       "    </tr>\n",
       "    <tr>\n",
       "      <th>8727</th>\n",
       "      <td>99812-1-2-0.wav</td>\n",
       "      <td>99812</td>\n",
       "      <td>159.522205</td>\n",
       "      <td>163.522205</td>\n",
       "      <td>2</td>\n",
       "      <td>7</td>\n",
       "      <td>1</td>\n",
       "      <td>car_horn</td>\n",
       "    </tr>\n",
       "    <tr>\n",
       "      <th>8728</th>\n",
       "      <td>99812-1-3-0.wav</td>\n",
       "      <td>99812</td>\n",
       "      <td>181.142431</td>\n",
       "      <td>183.284976</td>\n",
       "      <td>2</td>\n",
       "      <td>7</td>\n",
       "      <td>1</td>\n",
       "      <td>car_horn</td>\n",
       "    </tr>\n",
       "    <tr>\n",
       "      <th>8729</th>\n",
       "      <td>99812-1-4-0.wav</td>\n",
       "      <td>99812</td>\n",
       "      <td>242.691902</td>\n",
       "      <td>246.197885</td>\n",
       "      <td>2</td>\n",
       "      <td>7</td>\n",
       "      <td>1</td>\n",
       "      <td>car_horn</td>\n",
       "    </tr>\n",
       "    <tr>\n",
       "      <th>8730</th>\n",
       "      <td>99812-1-5-0.wav</td>\n",
       "      <td>99812</td>\n",
       "      <td>253.209850</td>\n",
       "      <td>255.741948</td>\n",
       "      <td>2</td>\n",
       "      <td>7</td>\n",
       "      <td>1</td>\n",
       "      <td>car_horn</td>\n",
       "    </tr>\n",
       "    <tr>\n",
       "      <th>8731</th>\n",
       "      <td>99812-1-6-0.wav</td>\n",
       "      <td>99812</td>\n",
       "      <td>332.289233</td>\n",
       "      <td>334.821332</td>\n",
       "      <td>2</td>\n",
       "      <td>7</td>\n",
       "      <td>1</td>\n",
       "      <td>car_horn</td>\n",
       "    </tr>\n",
       "  </tbody>\n",
       "</table>\n",
       "<p>8732 rows × 8 columns</p>\n",
       "</div>"
      ],
      "text/plain": [
       "         slice_file_name    fsID       start         end  salience  fold  \\\n",
       "0       100032-3-0-0.wav  100032    0.000000    0.317551         1     5   \n",
       "1     100263-2-0-117.wav  100263   58.500000   62.500000         1     5   \n",
       "2     100263-2-0-121.wav  100263   60.500000   64.500000         1     5   \n",
       "3     100263-2-0-126.wav  100263   63.000000   67.000000         1     5   \n",
       "4     100263-2-0-137.wav  100263   68.500000   72.500000         1     5   \n",
       "...                  ...     ...         ...         ...       ...   ...   \n",
       "8727     99812-1-2-0.wav   99812  159.522205  163.522205         2     7   \n",
       "8728     99812-1-3-0.wav   99812  181.142431  183.284976         2     7   \n",
       "8729     99812-1-4-0.wav   99812  242.691902  246.197885         2     7   \n",
       "8730     99812-1-5-0.wav   99812  253.209850  255.741948         2     7   \n",
       "8731     99812-1-6-0.wav   99812  332.289233  334.821332         2     7   \n",
       "\n",
       "      classID             class  \n",
       "0           3          dog_bark  \n",
       "1           2  children_playing  \n",
       "2           2  children_playing  \n",
       "3           2  children_playing  \n",
       "4           2  children_playing  \n",
       "...       ...               ...  \n",
       "8727        1          car_horn  \n",
       "8728        1          car_horn  \n",
       "8729        1          car_horn  \n",
       "8730        1          car_horn  \n",
       "8731        1          car_horn  \n",
       "\n",
       "[8732 rows x 8 columns]"
      ]
     },
     "execution_count": 3,
     "metadata": {},
     "output_type": "execute_result"
    }
   ],
   "source": [
    "metadata"
   ]
  },
  {
   "cell_type": "code",
   "execution_count": 4,
   "id": "f52a3730",
   "metadata": {},
   "outputs": [],
   "source": [
    "train_path = r\".\\train\\\\\"\n",
    "train_x = []\n",
    "train_y = []\n",
    "\n",
    "for file in os.listdir(train_path):\n",
    "    if file[-3:] != 'png':\n",
    "        continue\n",
    "    image_path = train_path+ file\n",
    "    image = cv2.imread(image_path, cv2.IMREAD_GRAYSCALE)\n",
    "    image = image/255.0\n",
    "    image = cv2.resize(image, (128, 128))\n",
    "    train_x.append(image)\n",
    "    \n",
    "    target = metadata[metadata['slice_file_name'] == file[:-3] + 'wav']['classID'].iloc[0]\n",
    "    train_y.append(target)\n",
    "\n",
    "\n",
    "train_x = np.array(train_x)\n",
    "train_x = np.expand_dims(train_x, axis = 3)\n",
    "train_y = np.array(train_y)\n",
    "train_y = train_y.reshape(-1, 1) "
   ]
  },
  {
   "cell_type": "code",
   "execution_count": 5,
   "id": "1fd68f98",
   "metadata": {},
   "outputs": [],
   "source": [
    "val_path = r\".\\val\\\\\"\n",
    "val_x = []\n",
    "val_y = []\n",
    "\n",
    "for file in os.listdir(val_path):\n",
    "    if file[-3:] != 'png':\n",
    "        continue\n",
    "    image_path = val_path+ file\n",
    "    image = cv2.imread(image_path, cv2.IMREAD_GRAYSCALE)\n",
    "    image = image/255.0\n",
    "    image = cv2.resize(image, (128, 128))\n",
    "    val_x.append(image)\n",
    "    \n",
    "    target = metadata[metadata['slice_file_name'] == file[:-3] + 'wav']['classID'].iloc[0]\n",
    "    val_y.append(target)\n",
    "\n",
    "\n",
    "val_x = np.array(val_x)\n",
    "val_x = np.expand_dims(val_x, axis = 3)\n",
    "val_y = np.array(val_y)\n",
    "val_y = val_y.reshape(-1, 1) "
   ]
  },
  {
   "cell_type": "code",
   "execution_count": 6,
   "id": "b895c539",
   "metadata": {},
   "outputs": [],
   "source": [
    "test_path = r\".\\test\\\\\"\n",
    "test_x = []\n",
    "test_y = []\n",
    "\n",
    "for file in os.listdir(test_path):\n",
    "    if file[-3:] != 'png':\n",
    "        continue\n",
    "    image_path = test_path+ file\n",
    "    image = cv2.imread(image_path, cv2.IMREAD_GRAYSCALE)\n",
    "    image = image/255.0\n",
    "    image = cv2.resize(image, (128, 128))\n",
    "    test_x.append(image)\n",
    "    \n",
    "    target = metadata[metadata['slice_file_name'] == file[:-3] + 'wav']['classID'].iloc[0]\n",
    "    test_y.append(target)\n",
    "\n",
    "\n",
    "test_x = np.array(test_x)\n",
    "test_x = np.expand_dims(test_x, axis = 3)\n",
    "test_y = np.array(test_y)\n",
    "test_y = test_y.reshape(-1, 1) "
   ]
  },
  {
   "cell_type": "code",
   "execution_count": 7,
   "id": "ea7c1701",
   "metadata": {},
   "outputs": [
    {
     "data": {
      "text/plain": [
       "(5239, 128, 128, 1)"
      ]
     },
     "execution_count": 7,
     "metadata": {},
     "output_type": "execute_result"
    }
   ],
   "source": [
    "train_x.shape"
   ]
  },
  {
   "cell_type": "code",
   "execution_count": 8,
   "id": "59aa7fc3",
   "metadata": {},
   "outputs": [
    {
     "data": {
      "text/plain": [
       "(1746, 128, 128, 1)"
      ]
     },
     "execution_count": 8,
     "metadata": {},
     "output_type": "execute_result"
    }
   ],
   "source": [
    "val_x.shape"
   ]
  },
  {
   "cell_type": "code",
   "execution_count": 9,
   "id": "559366ce",
   "metadata": {},
   "outputs": [
    {
     "data": {
      "text/plain": [
       "(1747, 128, 128, 1)"
      ]
     },
     "execution_count": 9,
     "metadata": {},
     "output_type": "execute_result"
    }
   ],
   "source": [
    "test_x.shape"
   ]
  },
  {
   "cell_type": "code",
   "execution_count": 10,
   "id": "7cc23e82",
   "metadata": {},
   "outputs": [],
   "source": [
    "encoder = OneHotEncoder()\n",
    "encoder.fit(train_y)\n",
    "\n",
    "train_y = encoder.transform(train_y).toarray()\n",
    "val_y = encoder.transform(val_y).toarray()\n",
    "test_y = encoder.transform(test_y).toarray()"
   ]
  },
  {
   "cell_type": "code",
   "execution_count": 11,
   "id": "2dc3a25e",
   "metadata": {},
   "outputs": [],
   "source": [
    "# build a model\n",
    "model = tf.keras.Sequential()\n",
    "\n",
    "# input layer\n",
    "model.add(tf.keras.layers.Conv2D(32,\n",
    "                                 kernel_size=(5,5),\n",
    "                                 strides=(2,2),\n",
    "                                 padding=\"same\",\n",
    "                                 activation=\"relu\",\n",
    "                                 input_shape=(128,128,1)))"
   ]
  },
  {
   "cell_type": "code",
   "execution_count": 12,
   "id": "c19222ae",
   "metadata": {},
   "outputs": [],
   "source": [
    "model.add(tf.keras.layers.MaxPooling2D((2,2)))\n",
    "model.add(tf.keras.layers.Conv2D(64,\n",
    "                                 kernel_size=(5,5),\n",
    "                                 strides=(2,2),\n",
    "                                 padding=\"same\",\n",
    "                                 activation=\"relu\"))\n",
    "model.add(tf.keras.layers.MaxPooling2D((2,2)))\n",
    "model.add(tf.keras.layers.Conv2D(64,\n",
    "                                 kernel_size=(5,5),\n",
    "                                 strides=(2,2),\n",
    "                                 padding=\"same\",\n",
    "                                 activation=\"relu\"))"
   ]
  },
  {
   "cell_type": "code",
   "execution_count": 13,
   "id": "1c24b5b1",
   "metadata": {},
   "outputs": [],
   "source": [
    "model.add(tf.keras.layers.Flatten())"
   ]
  },
  {
   "cell_type": "code",
   "execution_count": 14,
   "id": "891c62f3",
   "metadata": {},
   "outputs": [],
   "source": [
    "model.add(tf.keras.layers.Dense(64, activation=\"relu\"))\n",
    "model.add(tf.keras.layers.Dropout(0.5))\n",
    "\n",
    "\n",
    "model.add(tf.keras.layers.Dense(64, activation=\"relu\"))\n",
    "model.add(tf.keras.layers.Dropout(0.5))"
   ]
  },
  {
   "cell_type": "code",
   "execution_count": 15,
   "id": "52761089",
   "metadata": {},
   "outputs": [],
   "source": [
    "# output layer\n",
    "model.add(tf.keras.layers.Dense(10, activation=\"softmax\"))"
   ]
  },
  {
   "cell_type": "code",
   "execution_count": 16,
   "id": "1ae7821c",
   "metadata": {},
   "outputs": [],
   "source": [
    "# compile \n",
    "model.compile(optimizer=\"adam\",\n",
    "              loss=\"categorical_crossentropy\",\n",
    "              metrics=[\"accuracy\"])"
   ]
  },
  {
   "cell_type": "code",
   "execution_count": 17,
   "id": "4dd43b3a",
   "metadata": {},
   "outputs": [
    {
     "name": "stdout",
     "output_type": "stream",
     "text": [
      "Model: \"sequential\"\n",
      "_________________________________________________________________\n",
      "Layer (type)                 Output Shape              Param #   \n",
      "=================================================================\n",
      "conv2d (Conv2D)              (None, 64, 64, 32)        832       \n",
      "_________________________________________________________________\n",
      "max_pooling2d (MaxPooling2D) (None, 32, 32, 32)        0         \n",
      "_________________________________________________________________\n",
      "conv2d_1 (Conv2D)            (None, 16, 16, 64)        51264     \n",
      "_________________________________________________________________\n",
      "max_pooling2d_1 (MaxPooling2 (None, 8, 8, 64)          0         \n",
      "_________________________________________________________________\n",
      "conv2d_2 (Conv2D)            (None, 4, 4, 64)          102464    \n",
      "_________________________________________________________________\n",
      "flatten (Flatten)            (None, 1024)              0         \n",
      "_________________________________________________________________\n",
      "dense (Dense)                (None, 64)                65600     \n",
      "_________________________________________________________________\n",
      "dropout (Dropout)            (None, 64)                0         \n",
      "_________________________________________________________________\n",
      "dense_1 (Dense)              (None, 64)                4160      \n",
      "_________________________________________________________________\n",
      "dropout_1 (Dropout)          (None, 64)                0         \n",
      "_________________________________________________________________\n",
      "dense_2 (Dense)              (None, 10)                650       \n",
      "=================================================================\n",
      "Total params: 224,970\n",
      "Trainable params: 224,970\n",
      "Non-trainable params: 0\n",
      "_________________________________________________________________\n"
     ]
    }
   ],
   "source": [
    "model.summary()"
   ]
  },
  {
   "cell_type": "code",
   "execution_count": 18,
   "id": "759bb3dc",
   "metadata": {
    "scrolled": true
   },
   "outputs": [
    {
     "name": "stdout",
     "output_type": "stream",
     "text": [
      "Epoch 1/50\n",
      "41/41 [==============================] - 10s 235ms/step - loss: 2.2663 - accuracy: 0.1348 - val_loss: 2.1818 - val_accuracy: 0.1993\n",
      "Epoch 2/50\n",
      "41/41 [==============================] - 9s 215ms/step - loss: 2.1027 - accuracy: 0.2241 - val_loss: 1.8975 - val_accuracy: 0.3162\n",
      "Epoch 3/50\n",
      "41/41 [==============================] - 9s 220ms/step - loss: 1.9733 - accuracy: 0.2760 - val_loss: 1.7618 - val_accuracy: 0.3448\n",
      "Epoch 4/50\n",
      "41/41 [==============================] - 11s 263ms/step - loss: 1.8597 - accuracy: 0.3106 - val_loss: 1.6207 - val_accuracy: 0.4038\n",
      "Epoch 5/50\n",
      "41/41 [==============================] - 9s 230ms/step - loss: 1.7602 - accuracy: 0.3474 - val_loss: 1.5967 - val_accuracy: 0.4605\n",
      "Epoch 6/50\n",
      "41/41 [==============================] - 9s 220ms/step - loss: 1.6367 - accuracy: 0.3921 - val_loss: 1.4010 - val_accuracy: 0.4948\n",
      "Epoch 7/50\n",
      "41/41 [==============================] - 8s 207ms/step - loss: 1.5235 - accuracy: 0.4400 - val_loss: 1.2274 - val_accuracy: 0.5670\n",
      "Epoch 8/50\n",
      "41/41 [==============================] - 8s 207ms/step - loss: 1.4060 - accuracy: 0.4881 - val_loss: 1.1714 - val_accuracy: 0.5962\n",
      "Epoch 9/50\n",
      "41/41 [==============================] - 9s 209ms/step - loss: 1.3073 - accuracy: 0.5243 - val_loss: 1.0541 - val_accuracy: 0.6558\n",
      "Epoch 10/50\n",
      "41/41 [==============================] - 9s 223ms/step - loss: 1.2628 - accuracy: 0.5383 - val_loss: 1.0239 - val_accuracy: 0.6037\n",
      "Epoch 11/50\n",
      "41/41 [==============================] - 9s 220ms/step - loss: 1.1955 - accuracy: 0.5715 - val_loss: 1.0009 - val_accuracy: 0.6294\n",
      "Epoch 12/50\n",
      "41/41 [==============================] - 10s 237ms/step - loss: 1.1244 - accuracy: 0.5984 - val_loss: 0.8889 - val_accuracy: 0.7039\n",
      "Epoch 13/50\n",
      "41/41 [==============================] - 10s 236ms/step - loss: 1.0809 - accuracy: 0.6156 - val_loss: 0.8586 - val_accuracy: 0.6890\n",
      "Epoch 14/50\n",
      "41/41 [==============================] - 10s 235ms/step - loss: 1.0228 - accuracy: 0.6268 - val_loss: 0.8072 - val_accuracy: 0.7268\n",
      "Epoch 15/50\n",
      "41/41 [==============================] - 10s 236ms/step - loss: 0.9576 - accuracy: 0.6566 - val_loss: 0.7814 - val_accuracy: 0.7165\n",
      "Epoch 16/50\n",
      "41/41 [==============================] - 10s 243ms/step - loss: 0.9185 - accuracy: 0.6746 - val_loss: 0.7360 - val_accuracy: 0.7365\n",
      "Epoch 17/50\n",
      "41/41 [==============================] - 11s 262ms/step - loss: 0.8944 - accuracy: 0.6845 - val_loss: 0.7947 - val_accuracy: 0.7171\n",
      "Epoch 18/50\n",
      "41/41 [==============================] - 10s 247ms/step - loss: 0.8675 - accuracy: 0.6803 - val_loss: 0.6944 - val_accuracy: 0.7617\n",
      "Epoch 19/50\n",
      "41/41 [==============================] - 10s 239ms/step - loss: 0.8108 - accuracy: 0.7110 - val_loss: 0.6627 - val_accuracy: 0.7675\n",
      "Epoch 20/50\n",
      "41/41 [==============================] - 10s 232ms/step - loss: 0.7979 - accuracy: 0.7104 - val_loss: 0.6905 - val_accuracy: 0.7858\n",
      "Epoch 21/50\n",
      "41/41 [==============================] - 10s 232ms/step - loss: 0.7838 - accuracy: 0.7246 - val_loss: 0.6915 - val_accuracy: 0.7503\n",
      "Epoch 22/50\n",
      "41/41 [==============================] - 9s 230ms/step - loss: 0.7412 - accuracy: 0.7341 - val_loss: 0.6640 - val_accuracy: 0.7595\n",
      "Epoch 23/50\n",
      "41/41 [==============================] - 9s 230ms/step - loss: 0.7182 - accuracy: 0.7484 - val_loss: 0.6131 - val_accuracy: 0.7950\n",
      "Epoch 24/50\n",
      "41/41 [==============================] - 9s 231ms/step - loss: 0.6850 - accuracy: 0.7574 - val_loss: 0.5906 - val_accuracy: 0.8110\n",
      "Epoch 25/50\n",
      "41/41 [==============================] - 9s 231ms/step - loss: 0.6529 - accuracy: 0.7687 - val_loss: 0.6658 - val_accuracy: 0.7686\n",
      "Epoch 26/50\n",
      "41/41 [==============================] - 9s 230ms/step - loss: 0.6306 - accuracy: 0.7750 - val_loss: 0.6001 - val_accuracy: 0.8064\n",
      "Epoch 27/50\n",
      "41/41 [==============================] - 10s 233ms/step - loss: 0.6179 - accuracy: 0.7847 - val_loss: 0.6080 - val_accuracy: 0.8047\n",
      "Epoch 28/50\n",
      "41/41 [==============================] - 10s 232ms/step - loss: 0.5927 - accuracy: 0.7969 - val_loss: 0.5419 - val_accuracy: 0.8391\n",
      "Epoch 29/50\n",
      "41/41 [==============================] - 9s 230ms/step - loss: 0.5645 - accuracy: 0.8019 - val_loss: 0.5534 - val_accuracy: 0.8270\n",
      "Epoch 30/50\n",
      "41/41 [==============================] - 9s 230ms/step - loss: 0.5264 - accuracy: 0.8187 - val_loss: 0.5653 - val_accuracy: 0.8322\n",
      "Epoch 31/50\n",
      "41/41 [==============================] - 10s 235ms/step - loss: 0.5135 - accuracy: 0.8213 - val_loss: 0.5054 - val_accuracy: 0.8482\n",
      "Epoch 32/50\n",
      "41/41 [==============================] - 10s 233ms/step - loss: 0.5287 - accuracy: 0.8221 - val_loss: 0.4861 - val_accuracy: 0.8597\n",
      "Epoch 33/50\n",
      "41/41 [==============================] - 10s 233ms/step - loss: 0.4652 - accuracy: 0.8339 - val_loss: 0.4792 - val_accuracy: 0.8557\n",
      "Epoch 34/50\n",
      "41/41 [==============================] - 9s 231ms/step - loss: 0.4649 - accuracy: 0.8412 - val_loss: 0.5272 - val_accuracy: 0.8293\n",
      "Epoch 35/50\n",
      "41/41 [==============================] - 12s 290ms/step - loss: 0.4301 - accuracy: 0.8565 - val_loss: 0.4591 - val_accuracy: 0.8637\n",
      "Epoch 36/50\n",
      "41/41 [==============================] - 11s 263ms/step - loss: 0.4394 - accuracy: 0.8546 - val_loss: 0.5132 - val_accuracy: 0.8534\n",
      "Epoch 37/50\n",
      "41/41 [==============================] - 9s 231ms/step - loss: 0.4105 - accuracy: 0.8633 - val_loss: 0.4810 - val_accuracy: 0.8534\n",
      "Epoch 38/50\n",
      "41/41 [==============================] - 10s 238ms/step - loss: 0.3976 - accuracy: 0.8681 - val_loss: 0.5908 - val_accuracy: 0.8316\n",
      "Epoch 39/50\n",
      "41/41 [==============================] - 10s 243ms/step - loss: 0.4106 - accuracy: 0.8651 - val_loss: 0.4392 - val_accuracy: 0.8740\n",
      "Epoch 40/50\n",
      "41/41 [==============================] - 9s 231ms/step - loss: 0.3566 - accuracy: 0.8811 - val_loss: 0.4281 - val_accuracy: 0.8849\n",
      "Epoch 41/50\n",
      "41/41 [==============================] - 10s 238ms/step - loss: 0.3331 - accuracy: 0.8880 - val_loss: 0.4374 - val_accuracy: 0.8814\n",
      "Epoch 42/50\n",
      "41/41 [==============================] - 11s 278ms/step - loss: 0.3054 - accuracy: 0.8975 - val_loss: 0.4512 - val_accuracy: 0.8832\n",
      "Epoch 43/50\n",
      "41/41 [==============================] - 10s 242ms/step - loss: 0.3004 - accuracy: 0.8992 - val_loss: 0.5580 - val_accuracy: 0.8580\n",
      "Epoch 44/50\n",
      "41/41 [==============================] - 10s 239ms/step - loss: 0.2984 - accuracy: 0.9011 - val_loss: 0.4828 - val_accuracy: 0.8763\n",
      "Epoch 45/50\n",
      "41/41 [==============================] - 10s 239ms/step - loss: 0.2944 - accuracy: 0.9025 - val_loss: 0.5145 - val_accuracy: 0.8660\n",
      "Epoch 46/50\n",
      "41/41 [==============================] - 10s 236ms/step - loss: 0.3202 - accuracy: 0.8975 - val_loss: 0.4241 - val_accuracy: 0.8820\n",
      "Epoch 47/50\n",
      "41/41 [==============================] - 10s 235ms/step - loss: 0.2693 - accuracy: 0.9116 - val_loss: 0.4130 - val_accuracy: 0.8940\n",
      "Epoch 48/50\n",
      "41/41 [==============================] - 10s 244ms/step - loss: 0.2508 - accuracy: 0.9170 - val_loss: 0.4757 - val_accuracy: 0.8774\n",
      "Epoch 49/50\n",
      "41/41 [==============================] - 10s 234ms/step - loss: 0.2501 - accuracy: 0.9168 - val_loss: 0.4391 - val_accuracy: 0.8935\n",
      "Epoch 50/50\n",
      "41/41 [==============================] - 10s 233ms/step - loss: 0.2513 - accuracy: 0.9166 - val_loss: 0.4880 - val_accuracy: 0.8803\n"
     ]
    }
   ],
   "source": [
    "results = model.fit(train_x, train_y,\n",
    "                    batch_size=128,\n",
    "                    epochs=50,\n",
    "                    validation_data=(val_x, val_y))"
   ]
  },
  {
   "cell_type": "code",
   "execution_count": 19,
   "id": "8c16d581",
   "metadata": {},
   "outputs": [
    {
     "data": {
      "image/png": "[encoded data removed]",
      "text/plain": [
       "<Figure size 432x288 with 1 Axes>"
      ]
     },
     "metadata": {
      "needs_background": "light"
     },
     "output_type": "display_data"
    }
   ],
   "source": [
    "# training loss\n",
    "plt.plot(results.history[\"loss\"], label=\"loss\")\n",
    "\n",
    "# validation loss\n",
    "plt.plot(results.history[\"val_loss\"],label=\"val_loss\")\n",
    "\n",
    "plt.xlabel(\"Epoch\")\n",
    "plt.ylabel(\"Loss\")\n",
    "plt.legend()\n",
    "plt.show()"
   ]
  },
  {
   "cell_type": "code",
   "execution_count": 20,
   "id": "823c2c4d",
   "metadata": {
    "scrolled": true
   },
   "outputs": [
    {
     "data": {
      "image/png": "[encoded data removed]",
      "text/plain": [
       "<Figure size 432x288 with 1 Axes>"
      ]
     },
     "metadata": {
      "needs_background": "light"
     },
     "output_type": "display_data"
    }
   ],
   "source": [
    "# training accuracy\n",
    "plt.plot(results.history[\"accuracy\"],label=\"accuracy\")\n",
    "\n",
    "# validation accuracy\n",
    "plt.plot(results.history[\"val_accuracy\"], label=\"val_accuracy\")\n",
    "\n",
    "plt.xlabel(\"Epoch\")\n",
    "plt.ylabel(\"Accuracy\")\n",
    "plt.legend()\n",
    "plt.show()"
   ]
  },
  {
   "cell_type": "code",
   "execution_count": 22,
   "id": "f68733aa",
   "metadata": {},
   "outputs": [
    {
     "name": "stdout",
     "output_type": "stream",
     "text": [
      "55/55 [==============================] - 1s 27ms/step - loss: 0.6097 - accuracy: 0.8689\n"
     ]
    },
    {
     "data": {
      "text/plain": [
       "[0.6097120642662048, 0.8689181208610535]"
      ]
     },
     "execution_count": 22,
     "metadata": {},
     "output_type": "execute_result"
    }
   ],
   "source": [
    "# performance\n",
    "model.evaluate(test_x, test_y)"
   ]
  }
 ],
 "metadata": {
  "kernelspec": {
   "display_name": "Python 3",
   "language": "python",
   "name": "python3"
  },
  "language_info": {
   "codemirror_mode": {
    "name": "ipython",
    "version": 3
   },
   "file_extension": ".py",
   "mimetype": "text/x-python",
   "name": "python",
   "nbconvert_exporter": "python",
   "pygments_lexer": "ipython3",
   "version": "3.8.8"
  }
 },
 "nbformat": 4,
 "nbformat_minor": 5
}
