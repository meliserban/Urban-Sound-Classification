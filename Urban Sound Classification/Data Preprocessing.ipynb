{
 "cells": [
  {
   "cell_type": "code",
   "execution_count": 2,
   "id": "102e8a65",
   "metadata": {},
   "outputs": [],
   "source": [
    "import librosa\n",
    "import numpy as np\n",
    "import matplotlib.pyplot as plt\n",
    "%matplotlib inline\n",
    "import os, shutil\n",
    "import cv2\n",
    "import librosa\n",
    "import librosa.display\n",
    "import pandas as pd"
   ]
  },
  {
   "cell_type": "code",
   "execution_count": 3,
   "id": "b4ae3912",
   "metadata": {},
   "outputs": [],
   "source": [
    "def create_spectrogram(y):\n",
    "    spec = librosa.feature.melspectrogram(y=y)\n",
    "    spec_conv = librosa.amplitude_to_db(spec, ref=np.max)\n",
    "    return spec_conv"
   ]
  },
  {
   "cell_type": "code",
   "execution_count": null,
   "id": "9892c590",
   "metadata": {},
   "outputs": [],
   "source": [
    "!mkdir Temporary"
   ]
  },
  {
   "cell_type": "code",
   "execution_count": 4,
   "id": "560297c5",
   "metadata": {},
   "outputs": [],
   "source": [
    "temp = r\".\\Temporary\\\\\""
   ]
  },
  {
   "cell_type": "code",
   "execution_count": 5,
   "id": "09880c25",
   "metadata": {},
   "outputs": [
    {
     "name": "stderr",
     "output_type": "stream",
     "text": [
      "C:\\Users\\Melis\\anaconda3\\lib\\site-packages\\librosa\\util\\decorators.py:88: UserWarning: n_fft=2048 is too small for input signal of length=1103\n",
      "  return f(*args, **kwargs)\n",
      "C:\\Users\\Melis\\anaconda3\\lib\\site-packages\\librosa\\util\\decorators.py:88: UserWarning: n_fft=2048 is too small for input signal of length=1323\n",
      "  return f(*args, **kwargs)\n",
      "C:\\Users\\Melis\\anaconda3\\lib\\site-packages\\librosa\\util\\decorators.py:88: UserWarning: n_fft=2048 is too small for input signal of length=1523\n",
      "  return f(*args, **kwargs)\n"
     ]
    }
   ],
   "source": [
    "for i in range(1, 11):\n",
    "    file_path = r\".\\UrbanSound8K\\audio\\fold\" + str(i) + r\"\\\\\"\n",
    "    files = os.listdir(file_path)\n",
    "\n",
    "    for file in files:\n",
    "\n",
    "        if file[-3:] != 'wav':\n",
    "            continue\n",
    "            \n",
    "        y, sr = librosa.load(file_path+file)\n",
    "        spec = create_spectrogram(y)\n",
    "\n",
    "        save_file_path = temp + file.split('.')[0] + \".png\"\n",
    "\n",
    "        plt.figure()\n",
    "        librosa.display.specshow(spec)\n",
    "        plt.savefig(save_file_path)\n",
    "        plt.close()"
   ]
  },
  {
   "cell_type": "code",
   "execution_count": 6,
   "id": "a8d23d79",
   "metadata": {},
   "outputs": [],
   "source": [
    "for file in os.listdir(temp):\n",
    "    \n",
    "    if file[-3:] != \"png\":\n",
    "        continue\n",
    "    \n",
    "    file_name = temp + file\n",
    "    image =  cv2.imread(file_name)\n",
    "    gray = cv2.cvtColor(image, cv2.COLOR_BGR2GRAY)\n",
    "    cv2.imwrite(file_name, gray)"
   ]
  },
  {
   "cell_type": "code",
   "execution_count": 5,
   "id": "94222bc7",
   "metadata": {},
   "outputs": [],
   "source": [
    "!mkdir test\n",
    "!mkdir train\n",
    "!mkdir val"
   ]
  },
  {
   "cell_type": "code",
   "execution_count": 7,
   "id": "7d2cb5d5",
   "metadata": {},
   "outputs": [],
   "source": [
    "all_data = os.listdir(temp)\n",
    "\n",
    "train_size = int(0.6 * len(all_data))\n",
    "val_size = int(0.2 * len(all_data))\n",
    "test_size = int(0.2 * len(all_data))\n",
    "\n",
    "\n",
    "train_files = np.random.choice(all_data, size = train_size, replace = False)\n",
    "all_data = list(set(all_data) - set(train_files))\n",
    "val_files = np.random.choice(all_data, size = val_size, replace=False)\n",
    "test_files = list(set(all_data) - set(val_files))"
   ]
  },
  {
   "cell_type": "code",
   "execution_count": 7,
   "id": "eb655dff",
   "metadata": {},
   "outputs": [],
   "source": [
    "train_path = r\".\\train\\\\\"\n",
    "val_path = r\".\\val\\\\\"\n",
    "test_path = r\".\\test\\\\\"\n",
    "\n",
    "\n",
    "for file in train_files:\n",
    "    shutil.move(temp + file, train_path + file)\n",
    "    \n",
    "for file in val_files:\n",
    "    shutil.move(temp + file, val_path + file)\n",
    "    \n",
    "for file in test_files:\n",
    "    shutil.move(temp + file, test_path + file)"
   ]
  }
 ],
 "metadata": {
  "kernelspec": {
   "display_name": "Python 3",
   "language": "python",
   "name": "python3"
  },
  "language_info": {
   "codemirror_mode": {
    "name": "ipython",
    "version": 3
   },
   "file_extension": ".py",
   "mimetype": "text/x-python",
   "name": "python",
   "nbconvert_exporter": "python",
   "pygments_lexer": "ipython3",
   "version": "3.8.8"
  }
 },
 "nbformat": 4,
 "nbformat_minor": 5
}
